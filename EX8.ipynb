{
 "cells": [
  {
   "cell_type": "code",
   "execution_count": 30,
   "metadata": {},
   "outputs": [],
   "source": [
    "import numpy as np\n",
    "import scipy as sp\n",
    "import math\n",
    "import time\n",
    "from numba import njit\n",
    "import matplotlib.pyplot as plt\n",
    "import plotly.graph_objects as go\n",
    "import ase\n",
    "from ase.io.trajectory import *\n",
    "from scipy.stats import linregress"
   ]
  },
  {
   "cell_type": "markdown",
   "metadata": {},
   "source": [
    "Codesnippet #1 : initialization of positions"
   ]
  },
  {
   "cell_type": "code",
   "execution_count": 31,
   "metadata": {},
   "outputs": [],
   "source": [
    "def initialize_positions(N, L):\n",
    "    \"\"\"input: total number of atoms (N), box size (L)\n",
    "    output: positions [(N,3) array]\n",
    "\"\"\"\n",
    "    #start with zeros\n",
    "    pos = np.zeros((N,3), float)\n",
    "    \n",
    "    #create integer grid locations for cubic lattice\n",
    "    LocLat = int(N**(1./3.) + 1.)\n",
    "    #print(LocLat)\n",
    "    SpacLat = L / LocLat\n",
    "    #print(SpacLat)    \n",
    "    \n",
    "    #create lattice sites\n",
    "    Lat = SpacLat * np.arange(LocLat, dtype=float) - 0.5*L\n",
    "    #print(Lat)\n",
    "    \n",
    "    #go over x, y, z points\n",
    "    i = 0\n",
    "    for x in Lat:\n",
    "        for y in Lat:\n",
    "            for z in Lat:\n",
    "                \n",
    "                pos[i] = np.array([x,y,z], float)\n",
    "                \n",
    "                #random diplacement to help initial CG minimization\n",
    "                RandDisp = 0.1 * SpacLat * (np.random.rand(3) - 0.5)\n",
    "                pos[i] = pos[i] + RandDisp\n",
    "                \n",
    "                i += 1\n",
    "                if i >= N:\n",
    "                    return pos\n",
    "    return pos"
   ]
  },
  {
   "cell_type": "markdown",
   "metadata": {},
   "source": [
    "Codesnippet #2 : velocity rescaling"
   ]
  },
  {
   "cell_type": "code",
   "execution_count": 32,
   "metadata": {},
   "outputs": [],
   "source": [
    "def velocity_rescaler(v, T):\n",
    "    \"\"\"input: velocities [(N,3) array] and target temperature (T)\n",
    "    output: rescaled velocities [(N,3) array]\n",
    "\"\"\"\n",
    "    # first apply condition for zero net momentum\n",
    "    v = v - v.mean(axis=0)\n",
    "    \n",
    "    #compte the kinetic energy\n",
    "    kin_energy = 0.5 * np.sum(v * v)\n",
    "    \n",
    "    #compute lambda, the rescaling factor \n",
    "    lam = np.sqrt(1.5 * len(v) * T / kin_energy)\n",
    "    v = v * lam\n",
    "    \n",
    "    return v"
   ]
  },
  {
   "cell_type": "markdown",
   "metadata": {},
   "source": [
    "Codesnippet #3 : initialization of velocities"
   ]
  },
  {
   "cell_type": "code",
   "execution_count": 33,
   "metadata": {},
   "outputs": [],
   "source": [
    "def initialize_velocities(N, T):\n",
    "    \"\"\"input: total number of atoms (N) and target tempearture (T)\n",
    "    output: initial velocities [(N,3) array]\n",
    "\"\"\"\n",
    "    v = np.random.rand(N, 3)\n",
    "    v = velocity_rescaler(v, T)\n",
    "\n",
    "    return v"
   ]
  },
  {
   "cell_type": "markdown",
   "metadata": {},
   "source": [
    "Codesnippet #4 : calculation of temperature"
   ]
  },
  {
   "cell_type": "code",
   "execution_count": 34,
   "metadata": {},
   "outputs": [],
   "source": [
    "def calc_temperature(v):\n",
    "    \"\"\"input: velocities [(N,3) array] \n",
    "    output: instantaneous temperature (T)\n",
    "\"\"\"\n",
    "    T = np.sum(v * v) / (3. * len(v))\n",
    "    return T"
   ]
  },
  {
   "cell_type": "markdown",
   "metadata": {},
   "source": [
    "Calculation of energy"
   ]
  },
  {
   "cell_type": "code",
   "execution_count": 35,
   "metadata": {},
   "outputs": [],
   "source": [
    "epsilon = 1.0\n",
    "sigma = 1.0\n",
    "Rc = 2.5 * sigma\n",
    "k = 3000.0\n",
    "r0 = 1.0\n",
    "\n",
    "def calculate_energy2(positions, L, M): #is not used in final version because the usage of foor loops in combination with numba is faster\n",
    "    N = positions.shape[0]\n",
    "    Rij = positions - positions[:, None]    # Create Nx3xN array of distances between atoms in x,y,z directions\n",
    "    Rij = Rij - L*np.round(Rij/L)           # Take box size into account\n",
    "    rij = np.linalg.norm(Rij, axis=2)       # Calculate NxN array of actual distances between atoms\n",
    "    modulo = np.arange(M-1, N-1, M, dtype = int)    # \"Cut-off\" between molecules\n",
    "    mask = np.ones((N,N), dtype= bool)      # Create \"Mask\" array to pick out values from distances \n",
    "    mask_modulo = np.ones(N-1, dtype=bool)  # Boolean vector to put on top off mask\n",
    "    mask_modulo[modulo] = False             # Set values to false that don't fullfill the modulo condition\n",
    "    mask = mask & (np.diagflat(mask_modulo, 1))     # Merge masks as to only pick distances between bonded atoms\n",
    "    energy = np.sum(k/2.0 * (rij[mask] - r0) ** 2)  # Sum of energies of bonds between atoms\n",
    "    mask = np.triu(~mask, 1)                # Ignore lower half of distance matrix\n",
    "    rij_nobond = rij[mask]                  # pick out all non-bonded interactions\n",
    "    rij_tmp = rij_nobond[(rij_nobond <= Rc) & (rij_nobond != 0)]    # Filter out distances larger than Rc and = 0\n",
    "    return energy + np.sum(4*epsilon*((rij_tmp/sigma)**(-12)-(rij_tmp/sigma)**(-6))-4*epsilon*((Rc/sigma)**(-12)-(Rc/sigma)**(-6))) # Sum of potential energy between non-bonded atoms\n",
    "\n",
    "@njit\n",
    "def calculate_energy(positions, L, M):\n",
    "    N = positions.shape[0]\n",
    "    energy = 0.0\n",
    "    sigma = 1.0\n",
    "    Rc = 2.5 * sigma\n",
    "    def inner_energy_nonbonded(rij):\n",
    "        u = 0.0\n",
    "        epsilon = 1.0\n",
    "        sigma = 1.0\n",
    "        Rc = 2.5 * sigma\n",
    "        u = 4*epsilon*((rij/sigma)**(-12)-(rij/sigma)**(-6))-4*epsilon*((Rc/sigma)**(-12)-(Rc/sigma)**(-6))\n",
    "        return u\n",
    "    \n",
    "    def inner_energy_harmonic(rij):\n",
    "        k = 3000.0\n",
    "        r0 = 1.0\n",
    "        u = k/2.0 * (rij - r0) ** 2\n",
    "        return u\n",
    "\n",
    "    for j in range (N):\n",
    "        for i in range (j):\n",
    "            Rij = np.subtract(positions[i],positions[j])\n",
    "            Rij += -L*np.rint(Rij/L)\n",
    "            rij = np.linalg.norm(Rij)\n",
    "            if j == i+1 and j % M > 0:\n",
    "                energy += inner_energy_harmonic(rij)\n",
    "            else:\n",
    "                if rij <= Rc:\n",
    "                    energy += inner_energy_nonbonded(rij)\n",
    "    return energy"
   ]
  },
  {
   "cell_type": "markdown",
   "metadata": {},
   "source": [
    "calculation of acceleration / forces"
   ]
  },
  {
   "cell_type": "code",
   "execution_count": 36,
   "metadata": {},
   "outputs": [],
   "source": [
    "@njit\n",
    "def calculate_forces(positions, L, M):\n",
    "    N = positions.shape[0]\n",
    "    epsilon = 1.0\n",
    "    sigma = 1.0\n",
    "    r0 = 1.0\n",
    "    k = 3000.0\n",
    "    Rc = 2.5 * sigma\n",
    "    forces = 0.0 * positions.copy()\n",
    "\n",
    "    def pot_derivative_nonbonded(rij):\n",
    "        temp = (sigma/rij)**6\n",
    "        return 4 * epsilon * (6 * temp - 12 * temp ** 2)/rij\n",
    "\n",
    "    def pot_derivative_harmonic(rij):\n",
    "        return k*(rij - r0)\n",
    "    \n",
    "    for i in range (N):\n",
    "        for j in range (i+1,N):\n",
    "            Rij = np.subtract(positions[i],positions[j])\n",
    "            Rij += -L*np.rint(Rij/L)\n",
    "            rij = np.linalg.norm(Rij)\n",
    "            if j == i+1 and j%M >0 and rij!= 0:\n",
    "                f_rij = pot_derivative_harmonic(rij)\n",
    "                forces[i] += f_rij/rij*Rij\n",
    "                forces[j] -= f_rij/rij*Rij\n",
    "            else:\n",
    "                if rij <= Rc and rij != 0:\n",
    "                    f_rij = pot_derivative_nonbonded(rij)\n",
    "                    forces[i] += f_rij/rij*Rij\n",
    "                    forces[j] -= f_rij/rij*Rij\n",
    "    return -forces"
   ]
  },
  {
   "cell_type": "markdown",
   "metadata": {},
   "source": [
    "calculation of energy and forces"
   ]
  },
  {
   "cell_type": "code",
   "execution_count": 37,
   "metadata": {},
   "outputs": [],
   "source": [
    "def calculate_en_and_forces(pos, L, M,):\n",
    "    return calculate_energy(pos, L, M), calculate_forces(pos, L, M)"
   ]
  },
  {
   "cell_type": "markdown",
   "metadata": {},
   "source": [
    "Optimized Linesearch of Ex5"
   ]
  },
  {
   "cell_type": "code",
   "execution_count": 38,
   "metadata": {},
   "outputs": [],
   "source": [
    "@njit\n",
    "def linesearch(pos, M, direction, delta, LStol, MaxLSSteps):\n",
    "    N = pos.shape[0]\n",
    "    L = (N/0.8)**(1/3)\n",
    "    r0 = pos\n",
    "    r1 = r0 + delta * direction\n",
    "    r2 = r1 + delta * direction\n",
    "    u0 = calculate_energy(r0, L, M)\n",
    "    u1 = calculate_energy(r1, L, M)\n",
    "    u2 = calculate_energy(r2, L, M)\n",
    "    \n",
    "    def gss(lower, upper, M, tol = 1e-05): # golden section search to rmin\n",
    "        gr = (math.sqrt(5) + 1) / 2\n",
    "        a = lower\n",
    "        b = upper\n",
    "        c = b - (b - a) / gr\n",
    "        d = a + (b - a) / gr\n",
    "        while np.linalg.norm(b-a) > tol:\n",
    "            if calculate_energy(c, L, M ) < calculate_energy(d, L, M ):\n",
    "                b = d\n",
    "            else:\n",
    "                a = c\n",
    "            c = b - (b - a) / gr\n",
    "            d = a + (b - a) / gr\n",
    "            \n",
    "        return (b+a) / 2\n",
    "\n",
    "    candidate = gss(r0, r1, M)\n",
    "    if (u2 > u1 and u1 > u0):\n",
    "        candidate = gss(r0, r1, M)\n",
    "\n",
    "        return candidate, calculate_energy(candidate, L, M)\n",
    "    \n",
    "    for k in range(MaxLSSteps):\n",
    "\n",
    "        if (u2 > u1 and u0 > u1):\n",
    "            candidate = gss(r0, r2, M)\n",
    "            \n",
    "            return candidate, calculate_energy(candidate, L, M)\n",
    "        else:\n",
    "            r0 = r1\n",
    "            r1 = r2\n",
    "            r2 = r1 + delta * direction\n",
    "            u0 = u1\n",
    "            u1 = u2\n",
    "            u2 = calculate_energy(r2, L, M)\n",
    "            \n",
    "    return candidate, calculate_energy(candidate, L, M)\n"
   ]
  },
  {
   "cell_type": "markdown",
   "metadata": {},
   "source": [
    "Optimized Conjugate Gradient of Ex5"
   ]
  },
  {
   "cell_type": "code",
   "execution_count": 39,
   "metadata": {},
   "outputs": [],
   "source": [
    "def conju_gra(pos, M, delta=0.001, LStol=10 ** (-8), MaxLSSteps=100000, ECtol=10 ** (-10), MaxCGSteps=100000):\n",
    "    N = pos.shape[0]\n",
    "    L = (N/0.8)**(1/3)\n",
    "    \n",
    "    prev_fo = calculate_forces(pos, L, M)\n",
    "    \n",
    "    prev_dir = prev_fo / (np.sum(abs(prev_fo), axis=1, keepdims=True)) \n",
    "    (pos,prev_en) = linesearch(pos, M, prev_dir, delta, LStol, MaxLSSteps)\n",
    "    \n",
    "    gamma = np.zeros(N)\n",
    "    curr_dir = np.zeros([N,3])\n",
    "    step = 1\n",
    "    while (step < MaxCGSteps ):\n",
    "        if step >= 2: \n",
    "            prev_fo = curr_fo\n",
    "            prev_en = curr_en\n",
    "            prev_dir = curr_dir\n",
    "        curr_fo = calculate_forces(pos, L, M)\n",
    "    \n",
    "        for i in range(N):\n",
    "            gamma[i] = (np.dot((curr_fo[i] - prev_fo[i]), curr_fo[i])) / (np.dot(prev_fo[i],prev_fo[i]))\n",
    "            curr_dir[i] = gamma[i] * prev_dir[i,:]\n",
    "        \n",
    "        \n",
    "        curr_dir += curr_fo \n",
    "        curr_dir = curr_dir / (np.sum(abs(curr_dir), axis=1, keepdims=True))\n",
    "        (pos, curr_en) = linesearch(pos, M, curr_dir, delta, LStol, MaxLSSteps)\n",
    "        if(abs(curr_en - prev_en) < abs(10**(-5)*curr_en)):\n",
    "            return pos, curr_en\n",
    "        step += 1  \n",
    "    return pos, curr_en\n"
   ]
  },
  {
   "cell_type": "markdown",
   "metadata": {},
   "source": [
    "Implementation of verlet-integration"
   ]
  },
  {
   "cell_type": "code",
   "execution_count": 40,
   "metadata": {},
   "outputs": [],
   "source": [
    "@njit\n",
    "def verlet_integration(pos, vel, acc, L, M, delta_t):\n",
    "    \n",
    "    pos = pos + delta_t * vel + 0.5 * delta_t **2 * acc\n",
    "    vel = vel + 0.5 * delta_t * acc\n",
    "    \n",
    "    (pot_energy, acc) = (calculate_energy(pos, L, M), calculate_forces(pos, L, M))\n",
    "    kin_energy = 0.5 * np.sum(vel**2)\n",
    "    return pos, vel, acc, pot_energy, kin_energy"
   ]
  },
  {
   "cell_type": "markdown",
   "metadata": {},
   "source": [
    "Performing molecular dynamics"
   ]
  },
  {
   "cell_type": "code",
   "execution_count": 41,
   "metadata": {},
   "outputs": [],
   "source": [
    "def md_sim(pos, L, M, T, N):\n",
    "    vel = initialize_velocities(N,T)\n",
    "    delta_T = 0.001\n",
    "    acc = calculate_forces(pos, L, M)\n",
    "    pot = calculate_energy(pos, L, M)\n",
    "    kin = 0.5 * np.sum(vel ** 2)\n",
    "    track_pos_A = []\n",
    "    track_vel_A = []\n",
    "    track_kin_A = []\n",
    "    track_pot_A = []\n",
    "    pots, kins = [], []\n",
    "    \n",
    "    Steps, Rfreq, Wfreq = 10000, 1000, 100\n",
    "    #Run 6A\n",
    "    for i in range(1, Steps+1):\n",
    "        if (i % Rfreq == 0):\n",
    "            vel = velocity_rescaler(vel, T)\n",
    "\n",
    "        if (i % Wfreq == 0):\n",
    "            track_pos_A.append(pos)\n",
    "            track_vel_A.append(vel)\n",
    "            track_kin_A.append(kin)\n",
    "            track_pot_A.append(pot)\n",
    "        \n",
    "        pots.append(pot)\n",
    "        kins.append(kin)\n",
    "        \n",
    "\n",
    "        (pos, vel, acc, pot, kin) = verlet_integration(pos, vel, acc, L, M, delta_T)\n",
    "    \n",
    "    tots = pots + kins\n",
    "    \n",
    "    \n",
    "    pot_var = np.var(pots)\n",
    "    kin_var = np.var(kins)\n",
    "    tot_var = np.var(tots)\n",
    "    \n",
    "    print(\"Variance of the potenatial energy for the first phase of simulation: \\t\", pot_var)\n",
    "    print(\"Variance of the kinetic energy for the first phase of simulation: \\t\", kin_var)\n",
    "    print(\"Variance of total energy for the first phase of simulation: \\t\", tot_var)\n",
    "    \n",
    "    track_pos_B = []\n",
    "    track_vel_B = []\n",
    "    track_kin_B = []\n",
    "    track_pot_B = []\n",
    "\n",
    "#Run 6B\n",
    "    pots, kins = [], []\n",
    "    for i in range(1, Steps+1):\n",
    "        if (i % Rfreq == 0):\n",
    "            vel = velocity_rescaler(vel, T)\n",
    "\n",
    "        if (i % Wfreq == 0):\n",
    "            track_pos_B.append(pos)\n",
    "            track_vel_B.append(vel)\n",
    "            track_kin_B.append(kin)\n",
    "            track_pot_B.append(pot)\n",
    "\n",
    "        pots.append(pot)\n",
    "        kins.append(kin)\n",
    "\n",
    "        (pos, vel, acc, pot, kin) = verlet_integration(pos, vel, acc, L, M, delta_T)\n",
    "\n",
    "    avrg_pot = np.sum(pots) / Steps\n",
    "    avrg_kin = np.sum(kins) / Steps\n",
    "    avrg_en = avrg_pot + avrg_kin\n",
    "\n",
    "    inst_pot = pot\n",
    "    inst_kin = avrg_en - inst_pot\n",
    "    inst_T = (2 * inst_kin) / (3 * len(vel))\n",
    "    \n",
    "    tots = pots + kins\n",
    "    \n",
    "    \n",
    "    pot_var = np.sum((pots - avrg_pot) ** 2) / (len(pots) - 1)\n",
    "    kin_var = np.sum((kins - avrg_kin) ** 2) / (len(kins) - 1)\n",
    "    tot_var = np.sum((tots - avrg_en) ** 2) / (len(tots) - 1)\n",
    "    \n",
    "    print(\"Variance of the potenatial energy for the second phase of simulation: \\t\", pot_var)\n",
    "    print(\"Variance of the kinetic energy for the second phase of simulation: \\t\", kin_var)\n",
    "    print(\"Variance of total energy for the second phase of simulation: \\t\", tot_var)\n",
    "\n",
    "    track_pos_B_add = []\n",
    "    track_vel_B_add = []\n",
    "    track_kin_B_add = []\n",
    "    track_pot_B_add = []\n",
    "\n",
    "    EPS = 10**(-8)\n",
    "    index = 1\n",
    "    while (abs(kin - inst_kin) > abs(EPS*kin)):\n",
    "        index += 1\n",
    "        vel = velocity_rescaler(vel, inst_T)\n",
    "        kin = 0.5 * np.sum(vel ** 2)\n",
    "\n",
    "        if (index % Wfreq == 0):\n",
    "            track_pos_B_add.append(pos)\n",
    "            track_vel_B_add.append(vel)\n",
    "            track_kin_B_add.append(kin)\n",
    "            track_pot_B_add.append(pot)\n",
    "\n",
    "    posRef = pos.copy()\n",
    "\n",
    "#Run 6D\n",
    "    track_pos_D = []\n",
    "    track_vel_D = []\n",
    "    track_kin_D = []\n",
    "    track_pot_D = []\n",
    "    track_MSD = []\n",
    "    \n",
    "    pots, kins = [], []\n",
    "\n",
    "    Steps = 100000\n",
    "    for i in range(1, Steps+1):\n",
    "        if (i % Wfreq == 0):\n",
    "            track_pos_D.append(pos)\n",
    "            track_vel_D.append(vel)\n",
    "            track_kin_D.append(kin)\n",
    "            track_pot_D.append(pot)\n",
    "            track_MSD.append(np.sum(np.linalg.norm(pos - posRef, axis=1) ** 2)/N)\n",
    "        pots.append(pot)\n",
    "        kins.append(kin)\n",
    "        \n",
    "        (pos, vel, acc, pot, kin) = verlet_integration(pos, vel, acc, L, M, delta_T)\n",
    "        \n",
    "    tots = pots + kins\n",
    "    pot_mean = np.mean(pots)\n",
    "    kin_mean = np.mean(kins)\n",
    "    tot_mean = np.mean(tots)\n",
    "    \n",
    "    pot_var = np.sum((pots - pot_mean) ** 2) / (len(pots) - 1)\n",
    "    kin_var = np.sum((kins - kin_mean) ** 2) / (len(kins) - 1)\n",
    "    tot_var = np.sum((tots - tot_mean) ** 2) / (len(tots) - 1)\n",
    "    \n",
    "    print(\"Variance of the potenatial energy for the final phase of simulation: \\t\", pot_var)\n",
    "    print(\"Variance of the kinetic energy for the final phase of simulation: \\t\", kin_var)\n",
    "    print(\"Variance of total energy for the final phase of simulation: \\t\", tot_var)   \n",
    "    \n",
    "    return(track_pos_D, track_MSD, track_kin_D, track_pot_D, track_kin_A, track_kin_B, track_pot_A, track_pot_B)\n"
   ]
  },
  {
   "cell_type": "markdown",
   "metadata": {},
   "source": [
    "Execution of the MD-Simulation for different M + Bonus task"
   ]
  },
  {
   "cell_type": "code",
   "execution_count": 51,
   "metadata": {},
   "outputs": [
    {
     "name": "stdout",
     "output_type": "stream",
     "text": [
      "T = 1.5 and M = 4\n",
      "Variance of the potenatial energy for the first phase of simulation: \t 10877.437929306188\n",
      "Variance of the kinetic energy for the first phase of simulation: \t 5330.514584564781\n",
      "Variance of total energy for the first phase of simulation: \t 293530.5669210919\n",
      "Variance of the potenatial energy for the second phase of simulation: \t 1417.2441837954336\n",
      "Variance of the kinetic energy for the second phase of simulation: \t 380.3379340774787\n",
      "Variance of total energy for the second phase of simulation: \t 270645.104661689\n",
      "Variance of the potenatial energy for the final phase of simulation: \t 1165.960132197834\n",
      "Variance of the kinetic energy for the final phase of simulation: \t 291.41769530735485\n",
      "Variance of total energy for the final phase of simulation: \t 268917.81570507074\n",
      "done\n",
      "T = 1.5 and M = 8\n",
      "Variance of the potenatial energy for the first phase of simulation: \t 11309.229206166272\n",
      "Variance of the kinetic energy for the first phase of simulation: \t 5241.076053496999\n",
      "Variance of total energy for the first phase of simulation: \t 266177.6533085348\n",
      "Variance of the potenatial energy for the second phase of simulation: \t 1295.2161490494505\n",
      "Variance of the kinetic energy for the second phase of simulation: \t 352.2652636443329\n",
      "Variance of total energy for the second phase of simulation: \t 244747.1951296129\n",
      "Variance of the potenatial energy for the final phase of simulation: \t 1106.7204362462437\n",
      "Variance of the kinetic energy for the final phase of simulation: \t 276.6282882254088\n",
      "Variance of total energy for the final phase of simulation: \t 245559.43827410482\n",
      "done\n",
      "T = 1.5 and M = 16\n",
      "Variance of the potenatial energy for the first phase of simulation: \t 11110.082016710969\n",
      "Variance of the kinetic energy for the first phase of simulation: \t 6053.052320754434\n",
      "Variance of total energy for the first phase of simulation: \t 255743.558046522\n",
      "Variance of the potenatial energy for the second phase of simulation: \t 1411.7964620242055\n",
      "Variance of the kinetic energy for the second phase of simulation: \t 386.7142418079769\n",
      "Variance of total energy for the second phase of simulation: \t 237349.39681651065\n",
      "Variance of the potenatial energy for the final phase of simulation: \t 1173.139464061328\n",
      "Variance of the kinetic energy for the final phase of simulation: \t 293.21244055016706\n",
      "Variance of total energy for the final phase of simulation: \t 232757.33311927345\n",
      "done\n",
      "T = 1.0 and M = 8\n",
      "Variance of the potenatial energy for the first phase of simulation: \t 7077.703542200076\n",
      "Variance of the kinetic energy for the first phase of simulation: \t 2720.2015205201274\n",
      "Variance of total energy for the first phase of simulation: \t 271185.6685604347\n",
      "Variance of the potenatial energy for the second phase of simulation: \t 519.3191452164253\n",
      "Variance of the kinetic energy for the second phase of simulation: \t 149.0733888762009\n",
      "Variance of total energy for the second phase of simulation: \t 275663.47095953743\n",
      "Variance of the potenatial energy for the final phase of simulation: \t 575.5275262868965\n",
      "Variance of the kinetic energy for the final phase of simulation: \t 143.86200019630138\n",
      "Variance of total energy for the final phase of simulation: \t 252185.17632427043\n",
      "done\n",
      "T = 2.0 and M = 8\n",
      "Variance of the potenatial energy for the first phase of simulation: \t 17304.450341186748\n",
      "Variance of the kinetic energy for the first phase of simulation: \t 8759.328592535185\n",
      "Variance of total energy for the first phase of simulation: \t 258783.09873378015\n",
      "Variance of the potenatial energy for the second phase of simulation: \t 2153.6869392130484\n",
      "Variance of the kinetic energy for the second phase of simulation: \t 579.479705234627\n",
      "Variance of total energy for the second phase of simulation: \t 289848.5275084036\n"
     ]
    },
    {
     "ename": "SystemError",
     "evalue": "CPUDispatcher(<function verlet_integration at 0x0000025390D94280>) returned a result with an error set",
     "output_type": "error",
     "traceback": [
      "\u001b[1;31m---------------------------------------------------------------------------\u001b[0m",
      "\u001b[1;31mKeyboardInterrupt\u001b[0m                         Traceback (most recent call last)",
      "\u001b[1;32m~\\anaconda3\\lib\\site-packages\\numba\\core\\serialize.py\u001b[0m in \u001b[0;36m_numba_unpickle\u001b[1;34m(address, bytedata, hashed)\u001b[0m\n\u001b[0;32m     42\u001b[0m     \"\"\"\n\u001b[1;32m---> 43\u001b[1;33m     \u001b[0mkey\u001b[0m \u001b[1;33m=\u001b[0m \u001b[1;33m(\u001b[0m\u001b[0maddress\u001b[0m\u001b[1;33m,\u001b[0m \u001b[0mhashed\u001b[0m\u001b[1;33m)\u001b[0m\u001b[1;33m\u001b[0m\u001b[1;33m\u001b[0m\u001b[0m\n\u001b[0m\u001b[0;32m     44\u001b[0m     \u001b[1;32mtry\u001b[0m\u001b[1;33m:\u001b[0m\u001b[1;33m\u001b[0m\u001b[1;33m\u001b[0m\u001b[0m\n",
      "\u001b[1;31mKeyboardInterrupt\u001b[0m: ",
      "\nThe above exception was the direct cause of the following exception:\n",
      "\u001b[1;31mSystemError\u001b[0m                               Traceback (most recent call last)",
      "\u001b[1;31mSystemError\u001b[0m: PyEval_EvalFrameEx returned a result with an error set",
      "\nThe above exception was the direct cause of the following exception:\n",
      "\u001b[1;31mSystemError\u001b[0m                               Traceback (most recent call last)",
      "\u001b[1;31mSystemError\u001b[0m: PyEval_EvalFrameEx returned a result with an error set",
      "\nThe above exception was the direct cause of the following exception:\n",
      "\u001b[1;31mSystemError\u001b[0m                               Traceback (most recent call last)",
      "\u001b[1;32m~\\AppData\\Local\\Temp/ipykernel_19484/3966434939.py\u001b[0m in \u001b[0;36m<module>\u001b[1;34m\u001b[0m\n\u001b[0;32m     27\u001b[0m \u001b[0mT\u001b[0m \u001b[1;33m=\u001b[0m \u001b[1;36m2.0\u001b[0m\u001b[1;33m\u001b[0m\u001b[1;33m\u001b[0m\u001b[0m\n\u001b[0;32m     28\u001b[0m \u001b[0mprint\u001b[0m\u001b[1;33m(\u001b[0m\u001b[1;34m\"T = 2.0 and M = 8\"\u001b[0m\u001b[1;33m)\u001b[0m\u001b[1;33m\u001b[0m\u001b[1;33m\u001b[0m\u001b[0m\n\u001b[1;32m---> 29\u001b[1;33m \u001b[0mpos_8_2\u001b[0m\u001b[1;33m,\u001b[0m \u001b[0mmsd_8_2\u001b[0m\u001b[1;33m,\u001b[0m \u001b[0mkind_8_2\u001b[0m\u001b[1;33m,\u001b[0m \u001b[0mpotd_8_2\u001b[0m\u001b[1;33m,\u001b[0m \u001b[0mkina_8_2\u001b[0m\u001b[1;33m,\u001b[0m \u001b[0mkinb_8_2\u001b[0m\u001b[1;33m,\u001b[0m \u001b[0mpota_8_2\u001b[0m\u001b[1;33m,\u001b[0m \u001b[0mpotb_8_2\u001b[0m \u001b[1;33m=\u001b[0m \u001b[0mmd_sim\u001b[0m\u001b[1;33m(\u001b[0m\u001b[0mpos8\u001b[0m\u001b[1;33m,\u001b[0m \u001b[0mL\u001b[0m\u001b[1;33m,\u001b[0m \u001b[0mM\u001b[0m\u001b[1;33m,\u001b[0m \u001b[0mT\u001b[0m\u001b[1;33m,\u001b[0m \u001b[0mN\u001b[0m\u001b[1;33m)\u001b[0m\u001b[1;33m\u001b[0m\u001b[1;33m\u001b[0m\u001b[0m\n\u001b[0m\u001b[0;32m     30\u001b[0m \u001b[0mprint\u001b[0m\u001b[1;33m(\u001b[0m\u001b[1;34m\"done\"\u001b[0m\u001b[1;33m)\u001b[0m\u001b[1;33m\u001b[0m\u001b[1;33m\u001b[0m\u001b[0m\n\u001b[0;32m     31\u001b[0m \u001b[1;33m\u001b[0m\u001b[0m\n",
      "\u001b[1;32m~\\AppData\\Local\\Temp/ipykernel_19484/262384544.py\u001b[0m in \u001b[0;36mmd_sim\u001b[1;34m(pos, L, M, T, N)\u001b[0m\n\u001b[0;32m    121\u001b[0m         \u001b[0mkins\u001b[0m\u001b[1;33m.\u001b[0m\u001b[0mappend\u001b[0m\u001b[1;33m(\u001b[0m\u001b[0mkin\u001b[0m\u001b[1;33m)\u001b[0m\u001b[1;33m\u001b[0m\u001b[1;33m\u001b[0m\u001b[0m\n\u001b[0;32m    122\u001b[0m \u001b[1;33m\u001b[0m\u001b[0m\n\u001b[1;32m--> 123\u001b[1;33m         \u001b[1;33m(\u001b[0m\u001b[0mpos\u001b[0m\u001b[1;33m,\u001b[0m \u001b[0mvel\u001b[0m\u001b[1;33m,\u001b[0m \u001b[0macc\u001b[0m\u001b[1;33m,\u001b[0m \u001b[0mpot\u001b[0m\u001b[1;33m,\u001b[0m \u001b[0mkin\u001b[0m\u001b[1;33m)\u001b[0m \u001b[1;33m=\u001b[0m \u001b[0mverlet_integration\u001b[0m\u001b[1;33m(\u001b[0m\u001b[0mpos\u001b[0m\u001b[1;33m,\u001b[0m \u001b[0mvel\u001b[0m\u001b[1;33m,\u001b[0m \u001b[0macc\u001b[0m\u001b[1;33m,\u001b[0m \u001b[0mL\u001b[0m\u001b[1;33m,\u001b[0m \u001b[0mM\u001b[0m\u001b[1;33m,\u001b[0m \u001b[0mdelta_T\u001b[0m\u001b[1;33m)\u001b[0m\u001b[1;33m\u001b[0m\u001b[1;33m\u001b[0m\u001b[0m\n\u001b[0m\u001b[0;32m    124\u001b[0m \u001b[1;33m\u001b[0m\u001b[0m\n\u001b[0;32m    125\u001b[0m     \u001b[0mtots\u001b[0m \u001b[1;33m=\u001b[0m \u001b[0mpots\u001b[0m \u001b[1;33m+\u001b[0m \u001b[0mkins\u001b[0m\u001b[1;33m\u001b[0m\u001b[1;33m\u001b[0m\u001b[0m\n",
      "\u001b[1;31mSystemError\u001b[0m: CPUDispatcher(<function verlet_integration at 0x0000025390D94280>) returned a result with an error set"
     ]
    }
   ],
   "source": [
    "N = 240\n",
    "L = (N/0.8)**(1/3)\n",
    "pos = initialize_positions(N,L)\n",
    "M = 4\n",
    "T = 1.5\n",
    "print(\"T = 1.5 and M = 4\")\n",
    "pos4, energy4 = conju_gra(pos, M)\n",
    "pos_4, msd_4, kind_4, potd_4, kina_4, kinb_4, pota_4, potb_4 = md_sim(pos4, L, M, T, N)\n",
    "print(\"done\")\n",
    "M = 8\n",
    "pos8, energy8 = conju_gra(pos, M)\n",
    "print(\"T = 1.5 and M = 8\")\n",
    "pos_8, msd_8, kind_8, potd_8, kina_8, kinb_8, pota_8, potb_8 = md_sim(pos8, L, M, T, N)\n",
    "print(\"done\")\n",
    "M = 16\n",
    "pos16, energy16 = conju_gra(pos, M)\n",
    "print(\"T = 1.5 and M = 16\")\n",
    "pos_16, msd_16, kind_16, potd_16, kina_16, kinb_16, pota_16, potb_16 = md_sim(pos16, L, M, T, N)\n",
    "print(\"done\")\n",
    "\n",
    "# Bonus:\n",
    "M = 8\n",
    "T = 1.0\n",
    "print(\"T = 1.0 and M = 8\")\n",
    "pos_8_1, msd_8_1, kind_8_1, potd_8_1, kina_8_1, kinb_8_1, pota_8_1, potb_8_1 = md_sim(pos8, L, M, T, N)\n",
    "print(\"done\")\n",
    "T = 2.0\n",
    "print(\"T = 2.0 and M = 8\")\n",
    "pos_8_2, msd_8_2, kind_8_2, potd_8_2, kina_8_2, kinb_8_2, pota_8_2, potb_8_2 = md_sim(pos8, L, M, T, N)\n",
    "print(\"done\")\n",
    "\n"
   ]
  },
  {
   "cell_type": "markdown",
   "metadata": {},
   "source": [
    "Trajectory for M = 4 and T = 1.5"
   ]
  },
  {
   "cell_type": "code",
   "execution_count": 44,
   "metadata": {},
   "outputs": [
    {
     "ename": "ValueError",
     "evalue": "Array \"positions\" has wrong length: 16 != 240.",
     "output_type": "error",
     "traceback": [
      "\u001b[1;31m---------------------------------------------------------------------------\u001b[0m",
      "\u001b[1;31mValueError\u001b[0m                                Traceback (most recent call last)",
      "\u001b[1;32m~\\AppData\\Local\\Temp/ipykernel_19484/23515039.py\u001b[0m in \u001b[0;36m<module>\u001b[1;34m\u001b[0m\n\u001b[0;32m      4\u001b[0m \u001b[1;33m\u001b[0m\u001b[0m\n\u001b[0;32m      5\u001b[0m \u001b[1;32mwhile\u001b[0m \u001b[0mi\u001b[0m \u001b[1;33m<\u001b[0m \u001b[0mlen\u001b[0m\u001b[1;33m(\u001b[0m\u001b[0mpos_4\u001b[0m\u001b[1;33m)\u001b[0m\u001b[1;33m:\u001b[0m\u001b[1;33m\u001b[0m\u001b[1;33m\u001b[0m\u001b[0m\n\u001b[1;32m----> 6\u001b[1;33m     \u001b[0mnano\u001b[0m \u001b[1;33m=\u001b[0m \u001b[0mase\u001b[0m\u001b[1;33m.\u001b[0m\u001b[0mAtoms\u001b[0m\u001b[1;33m(\u001b[0m\u001b[1;34m'C240'\u001b[0m\u001b[1;33m,\u001b[0m \u001b[0mpos_4\u001b[0m\u001b[1;33m[\u001b[0m\u001b[0mi\u001b[0m\u001b[1;33m]\u001b[0m\u001b[1;33m*\u001b[0m\u001b[0mfac\u001b[0m\u001b[1;33m)\u001b[0m\u001b[1;33m\u001b[0m\u001b[1;33m\u001b[0m\u001b[0m\n\u001b[0m\u001b[0;32m      7\u001b[0m     \u001b[0mi\u001b[0m\u001b[1;33m+=\u001b[0m\u001b[1;36m1\u001b[0m\u001b[1;33m\u001b[0m\u001b[1;33m\u001b[0m\u001b[0m\n\u001b[0;32m      8\u001b[0m     \u001b[0mtraj\u001b[0m\u001b[1;33m.\u001b[0m\u001b[0mwrite\u001b[0m\u001b[1;33m(\u001b[0m\u001b[0mnano\u001b[0m\u001b[1;33m)\u001b[0m\u001b[1;33m\u001b[0m\u001b[1;33m\u001b[0m\u001b[0m\n",
      "\u001b[1;32m~\\anaconda3\\lib\\site-packages\\ase\\atoms.py\u001b[0m in \u001b[0;36m__init__\u001b[1;34m(self, symbols, positions, numbers, tags, momenta, masses, magmoms, charges, scaled_positions, cell, pbc, celldisp, constraint, calculator, info, velocities)\u001b[0m\n\u001b[0;32m    229\u001b[0m                 raise TypeError(\n\u001b[0;32m    230\u001b[0m                     'Use only one of \"symbols\" and \"numbers\".')\n\u001b[1;32m--> 231\u001b[1;33m         \u001b[0mself\u001b[0m\u001b[1;33m.\u001b[0m\u001b[0mnew_array\u001b[0m\u001b[1;33m(\u001b[0m\u001b[1;34m'positions'\u001b[0m\u001b[1;33m,\u001b[0m \u001b[0mpositions\u001b[0m\u001b[1;33m,\u001b[0m \u001b[0mfloat\u001b[0m\u001b[1;33m,\u001b[0m \u001b[1;33m(\u001b[0m\u001b[1;36m3\u001b[0m\u001b[1;33m,\u001b[0m\u001b[1;33m)\u001b[0m\u001b[1;33m)\u001b[0m\u001b[1;33m\u001b[0m\u001b[1;33m\u001b[0m\u001b[0m\n\u001b[0m\u001b[0;32m    232\u001b[0m \u001b[1;33m\u001b[0m\u001b[0m\n\u001b[0;32m    233\u001b[0m         \u001b[0mself\u001b[0m\u001b[1;33m.\u001b[0m\u001b[0mset_constraint\u001b[0m\u001b[1;33m(\u001b[0m\u001b[0mconstraint\u001b[0m\u001b[1;33m)\u001b[0m\u001b[1;33m\u001b[0m\u001b[1;33m\u001b[0m\u001b[0m\n",
      "\u001b[1;32m~\\anaconda3\\lib\\site-packages\\ase\\atoms.py\u001b[0m in \u001b[0;36mnew_array\u001b[1;34m(self, name, a, dtype, shape)\u001b[0m\n\u001b[0;32m    468\u001b[0m         \u001b[1;32mfor\u001b[0m \u001b[0mb\u001b[0m \u001b[1;32min\u001b[0m \u001b[0mself\u001b[0m\u001b[1;33m.\u001b[0m\u001b[0marrays\u001b[0m\u001b[1;33m.\u001b[0m\u001b[0mvalues\u001b[0m\u001b[1;33m(\u001b[0m\u001b[1;33m)\u001b[0m\u001b[1;33m:\u001b[0m\u001b[1;33m\u001b[0m\u001b[1;33m\u001b[0m\u001b[0m\n\u001b[0;32m    469\u001b[0m             \u001b[1;32mif\u001b[0m \u001b[0mlen\u001b[0m\u001b[1;33m(\u001b[0m\u001b[0ma\u001b[0m\u001b[1;33m)\u001b[0m \u001b[1;33m!=\u001b[0m \u001b[0mlen\u001b[0m\u001b[1;33m(\u001b[0m\u001b[0mb\u001b[0m\u001b[1;33m)\u001b[0m\u001b[1;33m:\u001b[0m\u001b[1;33m\u001b[0m\u001b[1;33m\u001b[0m\u001b[0m\n\u001b[1;32m--> 470\u001b[1;33m                 raise ValueError('Array \"%s\" has wrong length: %d != %d.' %\n\u001b[0m\u001b[0;32m    471\u001b[0m                                  (name, len(a), len(b)))\n\u001b[0;32m    472\u001b[0m             \u001b[1;32mbreak\u001b[0m\u001b[1;33m\u001b[0m\u001b[1;33m\u001b[0m\u001b[0m\n",
      "\u001b[1;31mValueError\u001b[0m: Array \"positions\" has wrong length: 16 != 240."
     ]
    }
   ],
   "source": [
    "traj = Trajectory('polymer4.traj', 'w')\n",
    "i=0\n",
    "fac=1.0\n",
    "\n",
    "while i < len(pos_4):\n",
    "    nano = ase.Atoms('C240', pos_4[i]*fac)\n",
    "    i+=1\n",
    "    traj.write(nano)"
   ]
  },
  {
   "cell_type": "markdown",
   "metadata": {},
   "source": [
    "Trajectory for M = 8 and T = 1.5"
   ]
  },
  {
   "cell_type": "code",
   "execution_count": null,
   "metadata": {},
   "outputs": [],
   "source": [
    "traj = Trajectory('polymer8.traj', 'w')\n",
    "i=0\n",
    "fac=1.0\n",
    "\n",
    "while i < len(pos_8):\n",
    "    nano = ase.Atoms('C240', pos_8[i]*fac)\n",
    "    i+=1\n",
    "    traj.write(nano)"
   ]
  },
  {
   "cell_type": "markdown",
   "metadata": {},
   "source": [
    "Trajectory for M = 16 and T = 1.5"
   ]
  },
  {
   "cell_type": "code",
   "execution_count": null,
   "metadata": {},
   "outputs": [],
   "source": [
    "traj = Trajectory('polymer16.traj', 'w')\n",
    "i=0\n",
    "fac=1.0\n",
    "\n",
    "while i < len(pos_16):\n",
    "    nano = ase.Atoms('C240', pos_16[i]*fac)\n",
    "    i+=1\n",
    "    traj.write(nano)"
   ]
  },
  {
   "cell_type": "markdown",
   "metadata": {},
   "source": [
    "Trajectory for M = 8 and T = 1.0"
   ]
  },
  {
   "cell_type": "code",
   "execution_count": null,
   "metadata": {},
   "outputs": [],
   "source": [
    "traj = Trajectory('polymer8_1.traj', 'w')\n",
    "i=0\n",
    "fac=1.0\n",
    "\n",
    "while i < len(pos_8_1):\n",
    "    nano = ase.Atoms('C240', pos_8_1[i]*fac)\n",
    "    i+=1\n",
    "    traj.write(nano)"
   ]
  },
  {
   "cell_type": "markdown",
   "metadata": {},
   "source": [
    "Trajectory for M = 8 and T = 2.0"
   ]
  },
  {
   "cell_type": "code",
   "execution_count": null,
   "metadata": {},
   "outputs": [],
   "source": [
    "traj = Trajectory('polymer8_2.traj', 'w')\n",
    "i=0\n",
    "fac=1.0\n",
    "\n",
    "while i < len(pos_8_2):\n",
    "    nano = ase.Atoms('C240', pos_8_2[i]*fac)\n",
    "    i+=1\n",
    "    traj.write(nano)"
   ]
  },
  {
   "cell_type": "markdown",
   "metadata": {},
   "source": [
    "Plot of Mean square displacement over time"
   ]
  },
  {
   "cell_type": "code",
   "execution_count": 45,
   "metadata": {},
   "outputs": [
    {
     "data": {
      "text/plain": [
       "<matplotlib.legend.Legend at 0x2538e0abb80>"
      ]
     },
     "execution_count": 45,
     "metadata": {},
     "output_type": "execute_result"
    },
    {
     "data": {
      "image/png": "[encoded data removed]",
      "text/plain": [
       "<Figure size 432x288 with 1 Axes>"
      ]
     },
     "metadata": {
      "needs_background": "light"
     },
     "output_type": "display_data"
    }
   ],
   "source": [
    "\n",
    "plt.figure()\n",
    "plt.plot(msd_4, label='M=4, T=1.5')\n",
    "plt.plot(msd_8, label='M=8, T=1.5')\n",
    "plt.plot(msd_16, label='M=16, T=1.5')\n",
    "plt.plot(msd_8_1, label='M=8, T=1.0')\n",
    "plt.plot(msd_8_2, label='M=8, T=2.0')\n",
    "plt.xlabel('Time')\n",
    "plt.ylabel('MSD')\n",
    "plt.title('Mean square displacement over time')\n",
    "plt.legend()"
   ]
  },
  {
   "cell_type": "markdown",
   "metadata": {},
   "source": [
    "Calculation of Diffusivity"
   ]
  },
  {
   "cell_type": "code",
   "execution_count": 46,
   "metadata": {},
   "outputs": [
    {
     "name": "stdout",
     "output_type": "stream",
     "text": [
      "For T = 1.5 and M = 4: \t D =  0.012196014354074783\n",
      "For T = 1.5 and M = 8: \t D =  0.020890467703813736\n",
      "For T = 1.5 and M = 16: \t D =  0.016214860740599867\n",
      "For T = 1.0 and M = 8: \t D =  0.009176862573537987\n",
      "For T = 2.0 and M = 8: \t D =  0.006342360621125063\n"
     ]
    },
    {
     "ename": "TypeError",
     "evalue": "only size-1 arrays can be converted to Python scalars",
     "output_type": "error",
     "traceback": [
      "\u001b[1;31m---------------------------------------------------------------------------\u001b[0m",
      "\u001b[1;31mTypeError\u001b[0m                                 Traceback (most recent call last)",
      "\u001b[1;32m~\\AppData\\Local\\Temp/ipykernel_19484/3821501351.py\u001b[0m in \u001b[0;36m<module>\u001b[1;34m\u001b[0m\n\u001b[0;32m     19\u001b[0m \u001b[0mxdata\u001b[0m \u001b[1;33m=\u001b[0m \u001b[0mnp\u001b[0m\u001b[1;33m.\u001b[0m\u001b[0marray\u001b[0m\u001b[1;33m(\u001b[0m\u001b[1;33m[\u001b[0m\u001b[1;36m1.0\u001b[0m\u001b[1;33m,\u001b[0m \u001b[1;36m2.0\u001b[0m\u001b[1;33m]\u001b[0m\u001b[1;33m)\u001b[0m\u001b[1;33m\u001b[0m\u001b[1;33m\u001b[0m\u001b[0m\n\u001b[0;32m     20\u001b[0m \u001b[0mydata\u001b[0m \u001b[1;33m=\u001b[0m \u001b[0mnp\u001b[0m\u001b[1;33m.\u001b[0m\u001b[0marray\u001b[0m\u001b[1;33m(\u001b[0m\u001b[1;33m[\u001b[0m\u001b[0mall_D\u001b[0m\u001b[1;33m[\u001b[0m\u001b[1;36m3\u001b[0m\u001b[1;33m]\u001b[0m\u001b[1;33m,\u001b[0m \u001b[0mall_D\u001b[0m\u001b[1;33m[\u001b[0m\u001b[1;36m4\u001b[0m\u001b[1;33m]\u001b[0m\u001b[1;33m]\u001b[0m\u001b[1;33m)\u001b[0m\u001b[1;33m\u001b[0m\u001b[1;33m\u001b[0m\u001b[0m\n\u001b[1;32m---> 21\u001b[1;33m \u001b[0mpar\u001b[0m \u001b[1;33m=\u001b[0m \u001b[0msp\u001b[0m\u001b[1;33m.\u001b[0m\u001b[0moptimize\u001b[0m\u001b[1;33m.\u001b[0m\u001b[0mcurve_fit\u001b[0m\u001b[1;33m(\u001b[0m\u001b[0mf\u001b[0m\u001b[1;33m,\u001b[0m \u001b[0mxdata\u001b[0m\u001b[1;33m,\u001b[0m \u001b[0mydata\u001b[0m\u001b[1;33m)\u001b[0m\u001b[1;33m\u001b[0m\u001b[1;33m\u001b[0m\u001b[0m\n\u001b[0m\u001b[0;32m     22\u001b[0m \u001b[0mprint\u001b[0m\u001b[1;33m(\u001b[0m\u001b[1;34m\"For D to be proportional to the expression, the first value has to be the same for both cases\"\u001b[0m\u001b[1;33m)\u001b[0m\u001b[1;33m\u001b[0m\u001b[1;33m\u001b[0m\u001b[0m\n\u001b[0;32m     23\u001b[0m \u001b[0mprint\u001b[0m\u001b[1;33m(\u001b[0m\u001b[0mall_D\u001b[0m\u001b[1;33m[\u001b[0m\u001b[1;36m3\u001b[0m\u001b[1;33m]\u001b[0m \u001b[1;33m/\u001b[0m \u001b[0mf\u001b[0m\u001b[1;33m(\u001b[0m\u001b[1;36m1.0\u001b[0m\u001b[1;33m,\u001b[0m \u001b[0mpar\u001b[0m\u001b[1;33m)\u001b[0m\u001b[1;33m)\u001b[0m\u001b[1;33m\u001b[0m\u001b[1;33m\u001b[0m\u001b[0m\n",
      "\u001b[1;32m~\\anaconda3\\lib\\site-packages\\scipy\\optimize\\minpack.py\u001b[0m in \u001b[0;36mcurve_fit\u001b[1;34m(f, xdata, ydata, p0, sigma, absolute_sigma, check_finite, bounds, method, jac, **kwargs)\u001b[0m\n\u001b[0;32m    787\u001b[0m         \u001b[1;31m# Remove full_output from kwargs, otherwise we're passing it in twice.\u001b[0m\u001b[1;33m\u001b[0m\u001b[1;33m\u001b[0m\u001b[1;33m\u001b[0m\u001b[0m\n\u001b[0;32m    788\u001b[0m         \u001b[0mreturn_full\u001b[0m \u001b[1;33m=\u001b[0m \u001b[0mkwargs\u001b[0m\u001b[1;33m.\u001b[0m\u001b[0mpop\u001b[0m\u001b[1;33m(\u001b[0m\u001b[1;34m'full_output'\u001b[0m\u001b[1;33m,\u001b[0m \u001b[1;32mFalse\u001b[0m\u001b[1;33m)\u001b[0m\u001b[1;33m\u001b[0m\u001b[1;33m\u001b[0m\u001b[0m\n\u001b[1;32m--> 789\u001b[1;33m         \u001b[0mres\u001b[0m \u001b[1;33m=\u001b[0m \u001b[0mleastsq\u001b[0m\u001b[1;33m(\u001b[0m\u001b[0mfunc\u001b[0m\u001b[1;33m,\u001b[0m \u001b[0mp0\u001b[0m\u001b[1;33m,\u001b[0m \u001b[0mDfun\u001b[0m\u001b[1;33m=\u001b[0m\u001b[0mjac\u001b[0m\u001b[1;33m,\u001b[0m \u001b[0mfull_output\u001b[0m\u001b[1;33m=\u001b[0m\u001b[1;36m1\u001b[0m\u001b[1;33m,\u001b[0m \u001b[1;33m**\u001b[0m\u001b[0mkwargs\u001b[0m\u001b[1;33m)\u001b[0m\u001b[1;33m\u001b[0m\u001b[1;33m\u001b[0m\u001b[0m\n\u001b[0m\u001b[0;32m    790\u001b[0m         \u001b[0mpopt\u001b[0m\u001b[1;33m,\u001b[0m \u001b[0mpcov\u001b[0m\u001b[1;33m,\u001b[0m \u001b[0minfodict\u001b[0m\u001b[1;33m,\u001b[0m \u001b[0merrmsg\u001b[0m\u001b[1;33m,\u001b[0m \u001b[0mier\u001b[0m \u001b[1;33m=\u001b[0m \u001b[0mres\u001b[0m\u001b[1;33m\u001b[0m\u001b[1;33m\u001b[0m\u001b[0m\n\u001b[0;32m    791\u001b[0m         \u001b[0mysize\u001b[0m \u001b[1;33m=\u001b[0m \u001b[0mlen\u001b[0m\u001b[1;33m(\u001b[0m\u001b[0minfodict\u001b[0m\u001b[1;33m[\u001b[0m\u001b[1;34m'fvec'\u001b[0m\u001b[1;33m]\u001b[0m\u001b[1;33m)\u001b[0m\u001b[1;33m\u001b[0m\u001b[1;33m\u001b[0m\u001b[0m\n",
      "\u001b[1;32m~\\anaconda3\\lib\\site-packages\\scipy\\optimize\\minpack.py\u001b[0m in \u001b[0;36mleastsq\u001b[1;34m(func, x0, args, Dfun, full_output, col_deriv, ftol, xtol, gtol, maxfev, epsfcn, factor, diag)\u001b[0m\n\u001b[0;32m    408\u001b[0m     \u001b[1;32mif\u001b[0m \u001b[1;32mnot\u001b[0m \u001b[0misinstance\u001b[0m\u001b[1;33m(\u001b[0m\u001b[0margs\u001b[0m\u001b[1;33m,\u001b[0m \u001b[0mtuple\u001b[0m\u001b[1;33m)\u001b[0m\u001b[1;33m:\u001b[0m\u001b[1;33m\u001b[0m\u001b[1;33m\u001b[0m\u001b[0m\n\u001b[0;32m    409\u001b[0m         \u001b[0margs\u001b[0m \u001b[1;33m=\u001b[0m \u001b[1;33m(\u001b[0m\u001b[0margs\u001b[0m\u001b[1;33m,\u001b[0m\u001b[1;33m)\u001b[0m\u001b[1;33m\u001b[0m\u001b[1;33m\u001b[0m\u001b[0m\n\u001b[1;32m--> 410\u001b[1;33m     \u001b[0mshape\u001b[0m\u001b[1;33m,\u001b[0m \u001b[0mdtype\u001b[0m \u001b[1;33m=\u001b[0m \u001b[0m_check_func\u001b[0m\u001b[1;33m(\u001b[0m\u001b[1;34m'leastsq'\u001b[0m\u001b[1;33m,\u001b[0m \u001b[1;34m'func'\u001b[0m\u001b[1;33m,\u001b[0m \u001b[0mfunc\u001b[0m\u001b[1;33m,\u001b[0m \u001b[0mx0\u001b[0m\u001b[1;33m,\u001b[0m \u001b[0margs\u001b[0m\u001b[1;33m,\u001b[0m \u001b[0mn\u001b[0m\u001b[1;33m)\u001b[0m\u001b[1;33m\u001b[0m\u001b[1;33m\u001b[0m\u001b[0m\n\u001b[0m\u001b[0;32m    411\u001b[0m     \u001b[0mm\u001b[0m \u001b[1;33m=\u001b[0m \u001b[0mshape\u001b[0m\u001b[1;33m[\u001b[0m\u001b[1;36m0\u001b[0m\u001b[1;33m]\u001b[0m\u001b[1;33m\u001b[0m\u001b[1;33m\u001b[0m\u001b[0m\n\u001b[0;32m    412\u001b[0m \u001b[1;33m\u001b[0m\u001b[0m\n",
      "\u001b[1;32m~\\anaconda3\\lib\\site-packages\\scipy\\optimize\\minpack.py\u001b[0m in \u001b[0;36m_check_func\u001b[1;34m(checker, argname, thefunc, x0, args, numinputs, output_shape)\u001b[0m\n\u001b[0;32m     22\u001b[0m def _check_func(checker, argname, thefunc, x0, args, numinputs,\n\u001b[0;32m     23\u001b[0m                 output_shape=None):\n\u001b[1;32m---> 24\u001b[1;33m     \u001b[0mres\u001b[0m \u001b[1;33m=\u001b[0m \u001b[0matleast_1d\u001b[0m\u001b[1;33m(\u001b[0m\u001b[0mthefunc\u001b[0m\u001b[1;33m(\u001b[0m\u001b[1;33m*\u001b[0m\u001b[1;33m(\u001b[0m\u001b[1;33m(\u001b[0m\u001b[0mx0\u001b[0m\u001b[1;33m[\u001b[0m\u001b[1;33m:\u001b[0m\u001b[0mnuminputs\u001b[0m\u001b[1;33m]\u001b[0m\u001b[1;33m,\u001b[0m\u001b[1;33m)\u001b[0m \u001b[1;33m+\u001b[0m \u001b[0margs\u001b[0m\u001b[1;33m)\u001b[0m\u001b[1;33m)\u001b[0m\u001b[1;33m)\u001b[0m\u001b[1;33m\u001b[0m\u001b[1;33m\u001b[0m\u001b[0m\n\u001b[0m\u001b[0;32m     25\u001b[0m     \u001b[1;32mif\u001b[0m \u001b[1;33m(\u001b[0m\u001b[0moutput_shape\u001b[0m \u001b[1;32mis\u001b[0m \u001b[1;32mnot\u001b[0m \u001b[1;32mNone\u001b[0m\u001b[1;33m)\u001b[0m \u001b[1;32mand\u001b[0m \u001b[1;33m(\u001b[0m\u001b[0mshape\u001b[0m\u001b[1;33m(\u001b[0m\u001b[0mres\u001b[0m\u001b[1;33m)\u001b[0m \u001b[1;33m!=\u001b[0m \u001b[0moutput_shape\u001b[0m\u001b[1;33m)\u001b[0m\u001b[1;33m:\u001b[0m\u001b[1;33m\u001b[0m\u001b[1;33m\u001b[0m\u001b[0m\n\u001b[0;32m     26\u001b[0m         \u001b[1;32mif\u001b[0m \u001b[1;33m(\u001b[0m\u001b[0moutput_shape\u001b[0m\u001b[1;33m[\u001b[0m\u001b[1;36m0\u001b[0m\u001b[1;33m]\u001b[0m \u001b[1;33m!=\u001b[0m \u001b[1;36m1\u001b[0m\u001b[1;33m)\u001b[0m\u001b[1;33m:\u001b[0m\u001b[1;33m\u001b[0m\u001b[1;33m\u001b[0m\u001b[0m\n",
      "\u001b[1;32m~\\anaconda3\\lib\\site-packages\\scipy\\optimize\\minpack.py\u001b[0m in \u001b[0;36mfunc_wrapped\u001b[1;34m(params)\u001b[0m\n\u001b[0;32m    483\u001b[0m     \u001b[1;32mif\u001b[0m \u001b[0mtransform\u001b[0m \u001b[1;32mis\u001b[0m \u001b[1;32mNone\u001b[0m\u001b[1;33m:\u001b[0m\u001b[1;33m\u001b[0m\u001b[1;33m\u001b[0m\u001b[0m\n\u001b[0;32m    484\u001b[0m         \u001b[1;32mdef\u001b[0m \u001b[0mfunc_wrapped\u001b[0m\u001b[1;33m(\u001b[0m\u001b[0mparams\u001b[0m\u001b[1;33m)\u001b[0m\u001b[1;33m:\u001b[0m\u001b[1;33m\u001b[0m\u001b[1;33m\u001b[0m\u001b[0m\n\u001b[1;32m--> 485\u001b[1;33m             \u001b[1;32mreturn\u001b[0m \u001b[0mfunc\u001b[0m\u001b[1;33m(\u001b[0m\u001b[0mxdata\u001b[0m\u001b[1;33m,\u001b[0m \u001b[1;33m*\u001b[0m\u001b[0mparams\u001b[0m\u001b[1;33m)\u001b[0m \u001b[1;33m-\u001b[0m \u001b[0mydata\u001b[0m\u001b[1;33m\u001b[0m\u001b[1;33m\u001b[0m\u001b[0m\n\u001b[0m\u001b[0;32m    486\u001b[0m     \u001b[1;32melif\u001b[0m \u001b[0mtransform\u001b[0m\u001b[1;33m.\u001b[0m\u001b[0mndim\u001b[0m \u001b[1;33m==\u001b[0m \u001b[1;36m1\u001b[0m\u001b[1;33m:\u001b[0m\u001b[1;33m\u001b[0m\u001b[1;33m\u001b[0m\u001b[0m\n\u001b[0;32m    487\u001b[0m         \u001b[1;32mdef\u001b[0m \u001b[0mfunc_wrapped\u001b[0m\u001b[1;33m(\u001b[0m\u001b[0mparams\u001b[0m\u001b[1;33m)\u001b[0m\u001b[1;33m:\u001b[0m\u001b[1;33m\u001b[0m\u001b[1;33m\u001b[0m\u001b[0m\n",
      "\u001b[1;32m~\\AppData\\Local\\Temp/ipykernel_19484/3821501351.py\u001b[0m in \u001b[0;36mf\u001b[1;34m(x, par)\u001b[0m\n\u001b[0;32m     16\u001b[0m \u001b[1;33m\u001b[0m\u001b[0m\n\u001b[0;32m     17\u001b[0m \u001b[1;32mdef\u001b[0m \u001b[0mf\u001b[0m\u001b[1;33m(\u001b[0m\u001b[0mx\u001b[0m\u001b[1;33m,\u001b[0m \u001b[0mpar\u001b[0m\u001b[1;33m)\u001b[0m\u001b[1;33m:\u001b[0m\u001b[1;33m\u001b[0m\u001b[1;33m\u001b[0m\u001b[0m\n\u001b[1;32m---> 18\u001b[1;33m     \u001b[1;32mreturn\u001b[0m \u001b[0mx\u001b[0m \u001b[1;33m*\u001b[0m \u001b[0mmath\u001b[0m\u001b[1;33m.\u001b[0m\u001b[0mexp\u001b[0m\u001b[1;33m(\u001b[0m\u001b[0mpar\u001b[0m \u001b[1;33m/\u001b[0m \u001b[1;36m3.0\u001b[0m \u001b[1;33m*\u001b[0m \u001b[0mx\u001b[0m\u001b[1;33m)\u001b[0m\u001b[1;33m\u001b[0m\u001b[1;33m\u001b[0m\u001b[0m\n\u001b[0m\u001b[0;32m     19\u001b[0m \u001b[0mxdata\u001b[0m \u001b[1;33m=\u001b[0m \u001b[0mnp\u001b[0m\u001b[1;33m.\u001b[0m\u001b[0marray\u001b[0m\u001b[1;33m(\u001b[0m\u001b[1;33m[\u001b[0m\u001b[1;36m1.0\u001b[0m\u001b[1;33m,\u001b[0m \u001b[1;36m2.0\u001b[0m\u001b[1;33m]\u001b[0m\u001b[1;33m)\u001b[0m\u001b[1;33m\u001b[0m\u001b[1;33m\u001b[0m\u001b[0m\n\u001b[0;32m     20\u001b[0m \u001b[0mydata\u001b[0m \u001b[1;33m=\u001b[0m \u001b[0mnp\u001b[0m\u001b[1;33m.\u001b[0m\u001b[0marray\u001b[0m\u001b[1;33m(\u001b[0m\u001b[1;33m[\u001b[0m\u001b[0mall_D\u001b[0m\u001b[1;33m[\u001b[0m\u001b[1;36m3\u001b[0m\u001b[1;33m]\u001b[0m\u001b[1;33m,\u001b[0m \u001b[0mall_D\u001b[0m\u001b[1;33m[\u001b[0m\u001b[1;36m4\u001b[0m\u001b[1;33m]\u001b[0m\u001b[1;33m]\u001b[0m\u001b[1;33m)\u001b[0m\u001b[1;33m\u001b[0m\u001b[1;33m\u001b[0m\u001b[0m\n",
      "\u001b[1;31mTypeError\u001b[0m: only size-1 arrays can be converted to Python scalars"
     ]
    }
   ],
   "source": [
    "lagtimes = np.arange(1000)*0.1\n",
    "all_msd = [msd_4, msd_8, msd_16, msd_8_1, msd_8_2]\n",
    "all_D = []\n",
    "for i in range(len(all_msd)):\n",
    "    linear_model = linregress(lagtimes, all_msd[i])\n",
    "    slope = linear_model.slope\n",
    "    error = linear_model.rvalue\n",
    "    D = slope * 1/(6)\n",
    "    all_D.append(D)\n",
    "\n",
    "print(\"For T = 1.5 and M = 4: \\t D = \", all_D[0])\n",
    "print(\"For T = 1.5 and M = 8: \\t D = \", all_D[1])\n",
    "print(\"For T = 1.5 and M = 16: \\t D = \", all_D[2])\n",
    "print(\"For T = 1.0 and M = 8: \\t D = \", all_D[3])\n",
    "print(\"For T = 2.0 and M = 8: \\t D = \", all_D[4])\n",
    "\n",
    "\n",
    "\n",
    "\n"
   ]
  },
  {
   "cell_type": "markdown",
   "metadata": {},
   "source": [
    "Plot of total energy over time "
   ]
  },
  {
   "cell_type": "code",
   "execution_count": 47,
   "metadata": {},
   "outputs": [
    {
     "data": {
      "text/plain": [
       "<matplotlib.legend.Legend at 0x25390c63d30>"
      ]
     },
     "execution_count": 47,
     "metadata": {},
     "output_type": "execute_result"
    },
    {
     "data": {
      "image/png": "[encoded data removed]",
      "text/plain": [
       "<Figure size 432x288 with 1 Axes>"
      ]
     },
     "metadata": {
      "needs_background": "light"
     },
     "output_type": "display_data"
    }
   ],
   "source": [
    "tot_en_4 = np.asarray(kind_4) + np.asarray(potd_4)\n",
    "tot_en_8 = np.asarray(kind_8) + np.asarray(potd_8)\n",
    "tot_en_16 = np.asarray(kind_16) + np.asarray(potd_16)\n",
    "tot_en_8_1 = np.asarray(kind_8_1) + np.asarray(potd_8_1)\n",
    "tot_en_8_2 = np.asarray(kind_8_2) + np.asarray(potd_8_2)\n",
    "\n",
    "plt.figure()\n",
    "plt.plot(tot_en_4, label='M=4, T=1.5')\n",
    "plt.plot(tot_en_8, label='M=8, T=1.5')\n",
    "plt.plot(tot_en_16, label='M=16, T=1.5')\n",
    "plt.plot(tot_en_8_1, label='M=8, T=1.0')\n",
    "plt.plot(tot_en_8_2, label='M=8, T=2.0')\n",
    "plt.xlabel('Time')\n",
    "plt.ylabel('Energy')\n",
    "plt.title('Total energy over time')\n",
    "plt.legend()\n"
   ]
  },
  {
   "cell_type": "markdown",
   "metadata": {},
   "source": [
    "Plot of potential energy over time"
   ]
  },
  {
   "cell_type": "code",
   "execution_count": 48,
   "metadata": {},
   "outputs": [
    {
     "data": {
      "text/plain": [
       "<matplotlib.legend.Legend at 0x25390d12c40>"
      ]
     },
     "execution_count": 48,
     "metadata": {},
     "output_type": "execute_result"
    },
    {
     "data": {
      "image/png": "[encoded data removed]",
      "text/plain": [
       "<Figure size 432x288 with 1 Axes>"
      ]
     },
     "metadata": {
      "needs_background": "light"
     },
     "output_type": "display_data"
    }
   ],
   "source": [
    "plt.figure()\n",
    "plt.plot(potd_4, label='M=4, T=1.5')\n",
    "plt.plot(potd_8, label='M=8, T=1.5')\n",
    "plt.plot(potd_16, label='M=16, T=1.5')\n",
    "plt.plot(potd_8_1, label='M=8, T=1.0')\n",
    "plt.plot(potd_8_2, label='M=8, T=2.0')\n",
    "plt.xlabel('Time')\n",
    "plt.ylabel('Energy')\n",
    "plt.title('Potential energy over time')\n",
    "plt.legend()\n"
   ]
  },
  {
   "cell_type": "markdown",
   "metadata": {},
   "source": [
    "Plot of kinetic energy over time"
   ]
  },
  {
   "cell_type": "code",
   "execution_count": 49,
   "metadata": {},
   "outputs": [
    {
     "data": {
      "text/plain": [
       "<matplotlib.legend.Legend at 0x253910b9b80>"
      ]
     },
     "execution_count": 49,
     "metadata": {},
     "output_type": "execute_result"
    },
    {
     "data": {
      "image/png": "[encoded data removed]",
      "text/plain": [
       "<Figure size 432x288 with 1 Axes>"
      ]
     },
     "metadata": {
      "needs_background": "light"
     },
     "output_type": "display_data"
    }
   ],
   "source": [
    "plt.figure()\n",
    "plt.plot(kind_4, label='M=4, T=1.5')\n",
    "plt.plot(kind_8, label='M=8, T=1.5')\n",
    "plt.plot(kind_16, label='M=16, T=1.5')\n",
    "plt.plot(kind_8_1, label='M=8, T=1.0')\n",
    "plt.plot(kind_8_2, label='M=8, T=2.0')\n",
    "plt.xlabel('Time in 1/10 sec')\n",
    "plt.ylabel('Energy')\n",
    "plt.title('Kinetic energy over time')\n",
    "plt.legend()\n",
    "\n"
   ]
  },
  {
   "cell_type": "markdown",
   "metadata": {},
   "source": [
    "Visualization of the final positions of the atoms for M = 8 "
   ]
  },
  {
   "cell_type": "code",
   "execution_count": 50,
   "metadata": {},
   "outputs": [
    {
     "data": {
      "application/vnd.plotly.v1+json": {
       "config": {
        "plotlyServerURL": "https://plot.ly"
       },
       "data": [
        {
         "mode": "lines+markers",
         "type": "scatter3d",
         "x": [
          -3.6147422460348024,
          -3.055958323972065,
          -2.646470475725702,
          -2.766899690383112,
          -3.080047255319189,
          -2.2711520521211193,
          -2.5573975534413584,
          -1.8856337850214133
         ],
         "y": [
          -1.692762228223764,
          -2.5235788643455432,
          -1.5539672668701066,
          -1.5029720788869976,
          -2.058876840239037,
          -2.382756912343541,
          -3.3537500947332624,
          -4.10904810892549
         ],
         "z": [
          2.7940740020435206,
          2.4817004340975175,
          2.4395696961415023,
          -1.2205713368666584,
          -1.9997313635291072,
          -2.3564863105286347,
          -4.96244503411508,
          -4.830035493631177
         ]
        },
        {
         "mode": "lines+markers",
         "type": "scatter3d",
         "x": [
          -0.5730383740215711,
          0.2741701955901971,
          0.8780673308886434,
          0.9826422804849886,
          0.4713605723810465,
          1.2676282383824695,
          1.399513744567071,
          1.2944618106504864
         ],
         "y": [
          4.6802843525254145,
          2.166680611199791,
          2.0928482336122225,
          1.0975713451611389,
          0.25270737844725394,
          0.15643586869866707,
          -0.49694877564885787,
          -0.01026011603781897
         ],
         "z": [
          5.283662526702488,
          2.200048107257035,
          1.4355597606257755,
          1.5965394045669652,
          -1.1073987858831291,
          -1.6327757213381164,
          -2.351395189947565,
          -5.945620633632276
         ]
        }
       ],
       "layout": {
        "template": {
         "data": {
          "bar": [
           {
            "error_x": {
             "color": "#2a3f5f"
            },
            "error_y": {
             "color": "#2a3f5f"
            },
            "marker": {
             "line": {
              "color": "#E5ECF6",
              "width": 0.5
             },
             "pattern": {
              "fillmode": "overlay",
              "size": 10,
              "solidity": 0.2
             }
            },
            "type": "bar"
           }
          ],
          "barpolar": [
           {
            "marker": {
             "line": {
              "color": "#E5ECF6",
              "width": 0.5
             },
             "pattern": {
              "fillmode": "overlay",
              "size": 10,
              "solidity": 0.2
             }
            },
            "type": "barpolar"
           }
          ],
          "carpet": [
           {
            "aaxis": {
             "endlinecolor": "#2a3f5f",
             "gridcolor": "white",
             "linecolor": "white",
             "minorgridcolor": "white",
             "startlinecolor": "#2a3f5f"
            },
            "baxis": {
             "endlinecolor": "#2a3f5f",
             "gridcolor": "white",
             "linecolor": "white",
             "minorgridcolor": "white",
             "startlinecolor": "#2a3f5f"
            },
            "type": "carpet"
           }
          ],
          "choropleth": [
           {
            "colorbar": {
             "outlinewidth": 0,
             "ticks": ""
            },
            "type": "choropleth"
           }
          ],
          "contour": [
           {
            "colorbar": {
             "outlinewidth": 0,
             "ticks": ""
            },
            "colorscale": [
             [
              0,
              "#0d0887"
             ],
             [
              0.1111111111111111,
              "#46039f"
             ],
             [
              0.2222222222222222,
              "#7201a8"
             ],
             [
              0.3333333333333333,
              "#9c179e"
             ],
             [
              0.4444444444444444,
              "#bd3786"
             ],
             [
              0.5555555555555556,
              "#d8576b"
             ],
             [
              0.6666666666666666,
              "#ed7953"
             ],
             [
              0.7777777777777778,
              "#fb9f3a"
             ],
             [
              0.8888888888888888,
              "#fdca26"
             ],
             [
              1,
              "#f0f921"
             ]
            ],
            "type": "contour"
           }
          ],
          "contourcarpet": [
           {
            "colorbar": {
             "outlinewidth": 0,
             "ticks": ""
            },
            "type": "contourcarpet"
           }
          ],
          "heatmap": [
           {
            "colorbar": {
             "outlinewidth": 0,
             "ticks": ""
            },
            "colorscale": [
             [
              0,
              "#0d0887"
             ],
             [
              0.1111111111111111,
              "#46039f"
             ],
             [
              0.2222222222222222,
              "#7201a8"
             ],
             [
              0.3333333333333333,
              "#9c179e"
             ],
             [
              0.4444444444444444,
              "#bd3786"
             ],
             [
              0.5555555555555556,
              "#d8576b"
             ],
             [
              0.6666666666666666,
              "#ed7953"
             ],
             [
              0.7777777777777778,
              "#fb9f3a"
             ],
             [
              0.8888888888888888,
              "#fdca26"
             ],
             [
              1,
              "#f0f921"
             ]
            ],
            "type": "heatmap"
           }
          ],
          "heatmapgl": [
           {
            "colorbar": {
             "outlinewidth": 0,
             "ticks": ""
            },
            "colorscale": [
             [
              0,
              "#0d0887"
             ],
             [
              0.1111111111111111,
              "#46039f"
             ],
             [
              0.2222222222222222,
              "#7201a8"
             ],
             [
              0.3333333333333333,
              "#9c179e"
             ],
             [
              0.4444444444444444,
              "#bd3786"
             ],
             [
              0.5555555555555556,
              "#d8576b"
             ],
             [
              0.6666666666666666,
              "#ed7953"
             ],
             [
              0.7777777777777778,
              "#fb9f3a"
             ],
             [
              0.8888888888888888,
              "#fdca26"
             ],
             [
              1,
              "#f0f921"
             ]
            ],
            "type": "heatmapgl"
           }
          ],
          "histogram": [
           {
            "marker": {
             "pattern": {
              "fillmode": "overlay",
              "size": 10,
              "solidity": 0.2
             }
            },
            "type": "histogram"
           }
          ],
          "histogram2d": [
           {
            "colorbar": {
             "outlinewidth": 0,
             "ticks": ""
            },
            "colorscale": [
             [
              0,
              "#0d0887"
             ],
             [
              0.1111111111111111,
              "#46039f"
             ],
             [
              0.2222222222222222,
              "#7201a8"
             ],
             [
              0.3333333333333333,
              "#9c179e"
             ],
             [
              0.4444444444444444,
              "#bd3786"
             ],
             [
              0.5555555555555556,
              "#d8576b"
             ],
             [
              0.6666666666666666,
              "#ed7953"
             ],
             [
              0.7777777777777778,
              "#fb9f3a"
             ],
             [
              0.8888888888888888,
              "#fdca26"
             ],
             [
              1,
              "#f0f921"
             ]
            ],
            "type": "histogram2d"
           }
          ],
          "histogram2dcontour": [
           {
            "colorbar": {
             "outlinewidth": 0,
             "ticks": ""
            },
            "colorscale": [
             [
              0,
              "#0d0887"
             ],
             [
              0.1111111111111111,
              "#46039f"
             ],
             [
              0.2222222222222222,
              "#7201a8"
             ],
             [
              0.3333333333333333,
              "#9c179e"
             ],
             [
              0.4444444444444444,
              "#bd3786"
             ],
             [
              0.5555555555555556,
              "#d8576b"
             ],
             [
              0.6666666666666666,
              "#ed7953"
             ],
             [
              0.7777777777777778,
              "#fb9f3a"
             ],
             [
              0.8888888888888888,
              "#fdca26"
             ],
             [
              1,
              "#f0f921"
             ]
            ],
            "type": "histogram2dcontour"
           }
          ],
          "mesh3d": [
           {
            "colorbar": {
             "outlinewidth": 0,
             "ticks": ""
            },
            "type": "mesh3d"
           }
          ],
          "parcoords": [
           {
            "line": {
             "colorbar": {
              "outlinewidth": 0,
              "ticks": ""
             }
            },
            "type": "parcoords"
           }
          ],
          "pie": [
           {
            "automargin": true,
            "type": "pie"
           }
          ],
          "scatter": [
           {
            "marker": {
             "colorbar": {
              "outlinewidth": 0,
              "ticks": ""
             }
            },
            "type": "scatter"
           }
          ],
          "scatter3d": [
           {
            "line": {
             "colorbar": {
              "outlinewidth": 0,
              "ticks": ""
             }
            },
            "marker": {
             "colorbar": {
              "outlinewidth": 0,
              "ticks": ""
             }
            },
            "type": "scatter3d"
           }
          ],
          "scattercarpet": [
           {
            "marker": {
             "colorbar": {
              "outlinewidth": 0,
              "ticks": ""
             }
            },
            "type": "scattercarpet"
           }
          ],
          "scattergeo": [
           {
            "marker": {
             "colorbar": {
              "outlinewidth": 0,
              "ticks": ""
             }
            },
            "type": "scattergeo"
           }
          ],
          "scattergl": [
           {
            "marker": {
             "colorbar": {
              "outlinewidth": 0,
              "ticks": ""
             }
            },
            "type": "scattergl"
           }
          ],
          "scattermapbox": [
           {
            "marker": {
             "colorbar": {
              "outlinewidth": 0,
              "ticks": ""
             }
            },
            "type": "scattermapbox"
           }
          ],
          "scatterpolar": [
           {
            "marker": {
             "colorbar": {
              "outlinewidth": 0,
              "ticks": ""
             }
            },
            "type": "scatterpolar"
           }
          ],
          "scatterpolargl": [
           {
            "marker": {
             "colorbar": {
              "outlinewidth": 0,
              "ticks": ""
             }
            },
            "type": "scatterpolargl"
           }
          ],
          "scatterternary": [
           {
            "marker": {
             "colorbar": {
              "outlinewidth": 0,
              "ticks": ""
             }
            },
            "type": "scatterternary"
           }
          ],
          "surface": [
           {
            "colorbar": {
             "outlinewidth": 0,
             "ticks": ""
            },
            "colorscale": [
             [
              0,
              "#0d0887"
             ],
             [
              0.1111111111111111,
              "#46039f"
             ],
             [
              0.2222222222222222,
              "#7201a8"
             ],
             [
              0.3333333333333333,
              "#9c179e"
             ],
             [
              0.4444444444444444,
              "#bd3786"
             ],
             [
              0.5555555555555556,
              "#d8576b"
             ],
             [
              0.6666666666666666,
              "#ed7953"
             ],
             [
              0.7777777777777778,
              "#fb9f3a"
             ],
             [
              0.8888888888888888,
              "#fdca26"
             ],
             [
              1,
              "#f0f921"
             ]
            ],
            "type": "surface"
           }
          ],
          "table": [
           {
            "cells": {
             "fill": {
              "color": "#EBF0F8"
             },
             "line": {
              "color": "white"
             }
            },
            "header": {
             "fill": {
              "color": "#C8D4E3"
             },
             "line": {
              "color": "white"
             }
            },
            "type": "table"
           }
          ]
         },
         "layout": {
          "annotationdefaults": {
           "arrowcolor": "#2a3f5f",
           "arrowhead": 0,
           "arrowwidth": 1
          },
          "autotypenumbers": "strict",
          "coloraxis": {
           "colorbar": {
            "outlinewidth": 0,
            "ticks": ""
           }
          },
          "colorscale": {
           "diverging": [
            [
             0,
             "#8e0152"
            ],
            [
             0.1,
             "#c51b7d"
            ],
            [
             0.2,
             "#de77ae"
            ],
            [
             0.3,
             "#f1b6da"
            ],
            [
             0.4,
             "#fde0ef"
            ],
            [
             0.5,
             "#f7f7f7"
            ],
            [
             0.6,
             "#e6f5d0"
            ],
            [
             0.7,
             "#b8e186"
            ],
            [
             0.8,
             "#7fbc41"
            ],
            [
             0.9,
             "#4d9221"
            ],
            [
             1,
             "#276419"
            ]
           ],
           "sequential": [
            [
             0,
             "#0d0887"
            ],
            [
             0.1111111111111111,
             "#46039f"
            ],
            [
             0.2222222222222222,
             "#7201a8"
            ],
            [
             0.3333333333333333,
             "#9c179e"
            ],
            [
             0.4444444444444444,
             "#bd3786"
            ],
            [
             0.5555555555555556,
             "#d8576b"
            ],
            [
             0.6666666666666666,
             "#ed7953"
            ],
            [
             0.7777777777777778,
             "#fb9f3a"
            ],
            [
             0.8888888888888888,
             "#fdca26"
            ],
            [
             1,
             "#f0f921"
            ]
           ],
           "sequentialminus": [
            [
             0,
             "#0d0887"
            ],
            [
             0.1111111111111111,
             "#46039f"
            ],
            [
             0.2222222222222222,
             "#7201a8"
            ],
            [
             0.3333333333333333,
             "#9c179e"
            ],
            [
             0.4444444444444444,
             "#bd3786"
            ],
            [
             0.5555555555555556,
             "#d8576b"
            ],
            [
             0.6666666666666666,
             "#ed7953"
            ],
            [
             0.7777777777777778,
             "#fb9f3a"
            ],
            [
             0.8888888888888888,
             "#fdca26"
            ],
            [
             1,
             "#f0f921"
            ]
           ]
          },
          "colorway": [
           "#636efa",
           "#EF553B",
           "#00cc96",
           "#ab63fa",
           "#FFA15A",
           "#19d3f3",
           "#FF6692",
           "#B6E880",
           "#FF97FF",
           "#FECB52"
          ],
          "font": {
           "color": "#2a3f5f"
          },
          "geo": {
           "bgcolor": "white",
           "lakecolor": "white",
           "landcolor": "#E5ECF6",
           "showlakes": true,
           "showland": true,
           "subunitcolor": "white"
          },
          "hoverlabel": {
           "align": "left"
          },
          "hovermode": "closest",
          "mapbox": {
           "style": "light"
          },
          "paper_bgcolor": "white",
          "plot_bgcolor": "#E5ECF6",
          "polar": {
           "angularaxis": {
            "gridcolor": "white",
            "linecolor": "white",
            "ticks": ""
           },
           "bgcolor": "#E5ECF6",
           "radialaxis": {
            "gridcolor": "white",
            "linecolor": "white",
            "ticks": ""
           }
          },
          "scene": {
           "xaxis": {
            "backgroundcolor": "#E5ECF6",
            "gridcolor": "white",
            "gridwidth": 2,
            "linecolor": "white",
            "showbackground": true,
            "ticks": "",
            "zerolinecolor": "white"
           },
           "yaxis": {
            "backgroundcolor": "#E5ECF6",
            "gridcolor": "white",
            "gridwidth": 2,
            "linecolor": "white",
            "showbackground": true,
            "ticks": "",
            "zerolinecolor": "white"
           },
           "zaxis": {
            "backgroundcolor": "#E5ECF6",
            "gridcolor": "white",
            "gridwidth": 2,
            "linecolor": "white",
            "showbackground": true,
            "ticks": "",
            "zerolinecolor": "white"
           }
          },
          "shapedefaults": {
           "line": {
            "color": "#2a3f5f"
           }
          },
          "ternary": {
           "aaxis": {
            "gridcolor": "white",
            "linecolor": "white",
            "ticks": ""
           },
           "baxis": {
            "gridcolor": "white",
            "linecolor": "white",
            "ticks": ""
           },
           "bgcolor": "#E5ECF6",
           "caxis": {
            "gridcolor": "white",
            "linecolor": "white",
            "ticks": ""
           }
          },
          "title": {
           "x": 0.05
          },
          "xaxis": {
           "automargin": true,
           "gridcolor": "white",
           "linecolor": "white",
           "ticks": "",
           "title": {
            "standoff": 15
           },
           "zerolinecolor": "white",
           "zerolinewidth": 2
          },
          "yaxis": {
           "automargin": true,
           "gridcolor": "white",
           "linecolor": "white",
           "ticks": "",
           "title": {
            "standoff": 15
           },
           "zerolinecolor": "white",
           "zerolinewidth": 2
          }
         }
        }
       }
      }
     },
     "metadata": {},
     "output_type": "display_data"
    }
   ],
   "source": [
    "x = pos_8_2[999][:, 0]\n",
    "y = pos_8_2[999][:, 1]\n",
    "z = pos_8_2[999][:, 2]\n",
    "\n",
    "fig = go.Figure()\n",
    "M = 8\n",
    "for i in range(int(N/M)):\n",
    "    fig.add_trace(go.Scatter3d(x=x[M*i:M*(i+1)],y=y[M*i:M*(i+1)],z=z[M*i:M*(i+1)],mode='lines+markers'))\n",
    "\n",
    "fig.show()"
   ]
  }
 ],
 "metadata": {
  "interpreter": {
   "hash": "6138cccec22ad779ec0cd325e365702d5ab7091d03ecae9d826e51ee9493cc4c"
  },
  "kernelspec": {
   "display_name": "Python 3 (ipykernel)",
   "language": "python",
   "name": "python3"
  },
  "language_info": {
   "codemirror_mode": {
    "name": "ipython",
    "version": 3
   },
   "file_extension": ".py",
   "mimetype": "text/x-python",
   "name": "python",
   "nbconvert_exporter": "python",
   "pygments_lexer": "ipython3",
   "version": "3.10.2"
  }
 },
 "nbformat": 4,
 "nbformat_minor": 4
}
